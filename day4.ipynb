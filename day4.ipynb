{
 "cells": [
  {
   "cell_type": "code",
   "execution_count": 44,
   "metadata": {},
   "outputs": [
    {
     "name": "stdout",
     "output_type": "stream",
     "text": [
      "3\n"
     ]
    }
   ],
   "source": [
    "s = \"babad\"\n",
    "st =''\n",
    "def reverse_str(s):\n",
    "    return s[::-1]\n",
    "for i in reversed(range(len(s))):\n",
    "    index = i+1\n",
    "    v = s[:index]\n",
    "    if v == reverse_str(v):\n",
    "        m=index\n",
    "        break\n",
    "    else:\n",
    "        pass\n",
    "\n",
    "print(m)"
   ]
  },
  {
   "cell_type": "code",
   "execution_count": null,
   "metadata": {},
   "outputs": [],
   "source": [
    "s=\"cbbd\"\n",
    "st=''\n",
    "list1=[]\n",
    "st=0\n",
    "for v in s:\n",
    "    print(v)\n",
    "    for j in range(len(s)):\n",
    "        list1.append(s[st:j+1])\n",
    "        print(list1)\n",
    "    st+=1"
   ]
  },
  {
   "cell_type": "code",
   "execution_count": 89,
   "metadata": {},
   "outputs": [
    {
     "name": "stdout",
     "output_type": "stream",
     "text": [
      "bb\n"
     ]
    }
   ],
   "source": [
    "s = \"cbbd\"\n",
    "list1,list2 = [],[]\n",
    "n=0\n",
    "for i in range(len(s)):\n",
    "    for j in range(i, len(s)):\n",
    "        list1.append(s[i:j+1])\n",
    "\n",
    "for i in list1:\n",
    "    if i == reverse_str(i) and len(i)>=n:\n",
    "        n=len(i)\n",
    "        result = i\n",
    "\n",
    "print(result)"
   ]
  }
 ],
 "metadata": {
  "kernelspec": {
   "display_name": "myenv",
   "language": "python",
   "name": "python3"
  },
  "language_info": {
   "codemirror_mode": {
    "name": "ipython",
    "version": 3
   },
   "file_extension": ".py",
   "mimetype": "text/x-python",
   "name": "python",
   "nbconvert_exporter": "python",
   "pygments_lexer": "ipython3",
   "version": "3.11.4"
  },
  "orig_nbformat": 4
 },
 "nbformat": 4,
 "nbformat_minor": 2
}
