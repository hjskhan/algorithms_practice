{
 "cells": [
  {
   "cell_type": "code",
   "execution_count": 1,
   "metadata": {},
   "outputs": [
    {
     "data": {
      "text/plain": [
       "6"
      ]
     },
     "execution_count": 1,
     "metadata": {},
     "output_type": "execute_result"
    }
   ],
   "source": [
    "#Q1\n",
    "def simpleArraySum(ar):\n",
    "    # Write your code here\n",
    "    return sum(ar)\n",
    "a = [1,2,3]\n",
    "simpleArraySum(a)"
   ]
  },
  {
   "cell_type": "code",
   "execution_count": 5,
   "metadata": {},
   "outputs": [
    {
     "data": {
      "text/plain": [
       "[1, 1]"
      ]
     },
     "execution_count": 5,
     "metadata": {},
     "output_type": "execute_result"
    }
   ],
   "source": [
    "# Q2\n",
    "def compareTriplets(a, b):\n",
    "    alice = 0\n",
    "    bob = 0\n",
    "    for i in range(len(a)):\n",
    "        if a[i]>b[i]:\n",
    "            alice += 1\n",
    "        elif a[i]<b[i]:\n",
    "            bob +=1\n",
    "        elif a[i] == b[i]:\n",
    "            pass\n",
    "    \n",
    "    return [alice,bob]\n",
    "        \n",
    "alice = [5, 6, 7]\n",
    "bob = [3,6,10]\n",
    "\n",
    "compareTriplets(alice,bob)\n"
   ]
  },
  {
   "cell_type": "code",
   "execution_count": 32,
   "metadata": {},
   "outputs": [
    {
     "data": {
      "text/plain": [
       "15"
      ]
     },
     "execution_count": 32,
     "metadata": {},
     "output_type": "execute_result"
    }
   ],
   "source": [
    "# Q3\n",
    "import numpy as np \n",
    "\n",
    "def diagonalDifference(arr):\n",
    "    j_0 = arr.shape[1]-1\n",
    "    sum1,sum2 = 0,0\n",
    "    for i in range(arr.shape[0]):\n",
    "        for j in range(arr.shape[1]):\n",
    "            if i == j:\n",
    "                sum1 = sum1 + arr[i][j]\n",
    "        if j_0 >= 0:\n",
    "            sum2 = sum2 + arr[i][j_0]\n",
    "            j_0 = j_0-1\n",
    "    \n",
    "    return abs(sum1 - sum2)\n",
    "\n",
    "a = np.array([[11,2,4],[4,5,6],[10,8,-12]])\n",
    "diagonalDifference(a)\n",
    "\n"
   ]
  },
  {
   "cell_type": "code",
   "execution_count": 50,
   "metadata": {},
   "outputs": [
    {
     "data": {
      "text/plain": [
       "0"
      ]
     },
     "execution_count": 50,
     "metadata": {},
     "output_type": "execute_result"
    }
   ],
   "source": [
    "def diagonalDifference(arr):\n",
    "    # Initialize variables to store diagonal sums\n",
    "    sum1, sum2 = 0, 0\n",
    "\n",
    "    # Iterate through the matrix\n",
    "    j_0 = len(arr[0]) - 1\n",
    "    for i in range(len(arr)):\n",
    "        sum1 += arr[i][i]\n",
    "        sum2 += arr[i][j_0]\n",
    "        j_0 -= 1\n",
    "\n",
    "    # Calculate and return the absolute difference\n",
    "    return abs(sum1 - sum2)\n",
    "\n",
    "a = [[1, 2, 3],\n",
    "    [4, 5, 6],\n",
    "    [7, 8, 9]]\n",
    "\n",
    "diagonalDifference(a)"
   ]
  },
  {
   "cell_type": "code",
   "execution_count": 57,
   "metadata": {},
   "outputs": [
    {
     "name": "stdout",
     "output_type": "stream",
     "text": [
      "0.400000\n",
      "-0.400000\n",
      "0.000000\n"
     ]
    }
   ],
   "source": [
    "def plusMinus(arr):\n",
    "    # Write your code here\n",
    "    n = len(arr)\n",
    "    r1,r2,r3 = 0,0,0\n",
    "    for i in range(len(arr)):\n",
    "        if arr[i] > 0:\n",
    "            r1 += arr[i]\n",
    "        elif arr[i] < 0:\n",
    "            r2 += arr[i]\n",
    "        elif arr[i] == 0:\n",
    "            r3 += arr[i]\n",
    "\n",
    "    print(f\"{r1/n:.6f}\")\n",
    "    print(f\"{r2/n:.6f}\")\n",
    "    print(f\"{r3/n:.6f}\")\n",
    "arr = [1,1,0,-1,-1]\n",
    "plusMinus(arr)"
   ]
  },
  {
   "cell_type": "code",
   "execution_count": 83,
   "metadata": {},
   "outputs": [
    {
     "data": {
      "text/plain": [
       "88"
      ]
     },
     "execution_count": 83,
     "metadata": {},
     "output_type": "execute_result"
    }
   ],
   "source": [
    "# You are given a 0-indexed integer array nums. You have to find the maximum sum of a pair of numbers from nums such that the maximum digit in both numbers are equal.\n",
    "\n",
    "# Return the maximum sum or -1 if no such pair exists.\n",
    "# Example 1:\n",
    "# Input: nums = [51,71,17,24,42]\n",
    "# Output: 88\n",
    "# Explanation: \n",
    "# For i = 1 and j = 2, nums[i] and nums[j] have equal maximum digits with a pair sum of 71 + 17 = 88. \n",
    "# For i = 3 and j = 4, nums[i] and nums[j] have equal maximum digits with a pair sum of 24 + 42 = 66.\n",
    "# It can be shown that there are no other pairs with equal maximum digits, so the answer is 88.\n",
    "# Example 2:\n",
    "# Input: nums = [1,2,3,4]\n",
    "# Output: -1\n",
    "# Explanation: No pair exists in nums with equal maximum digits.\n",
    "\n",
    "def maxSum(nums):\n",
    "    max_num,summ = [],[]\n",
    "    for i in nums:\n",
    "        max_num.append(int(max(str(i))))\n",
    "    for k in range(len(max_num)):\n",
    "        for l in range(k+1,len(max_num)):\n",
    "            if max_num[k] == max_num[l]:\n",
    "                index = [k,l]\n",
    "                summ.append(nums[k]+nums[l])\n",
    "\n",
    "    if num(summ)==0:\n",
    "        return -1\n",
    "    else:\n",
    "        return max(summ)\n",
    "\n",
    "nums = [51,71,17,24,42]\n",
    "maxSum(nums)"
   ]
  },
  {
   "cell_type": "code",
   "execution_count": null,
   "metadata": {},
   "outputs": [],
   "source": []
  }
 ],
 "metadata": {
  "kernelspec": {
   "display_name": "Python 3",
   "language": "python",
   "name": "python3"
  },
  "language_info": {
   "codemirror_mode": {
    "name": "ipython",
    "version": 3
   },
   "file_extension": ".py",
   "mimetype": "text/x-python",
   "name": "python",
   "nbconvert_exporter": "python",
   "pygments_lexer": "ipython3",
   "version": "3.11.4"
  },
  "orig_nbformat": 4
 },
 "nbformat": 4,
 "nbformat_minor": 2
}
