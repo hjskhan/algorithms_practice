{
 "cells": [
  {
   "cell_type": "code",
   "execution_count": 5,
   "metadata": {},
   "outputs": [
    {
     "data": {
      "text/plain": [
       "[11, 12, 22, 25, 34, 64, 90]"
      ]
     },
     "execution_count": 5,
     "metadata": {},
     "output_type": "execute_result"
    }
   ],
   "source": [
    "# Bubble sort\n",
    "# Optimized Python program for implementation of Bubble Sort\n",
    "\n",
    "def bubbleSort(arr):\n",
    "\tn=len(arr)\n",
    "\tfor i in range(n):\n",
    "\t\tfor j in range(n-i-1):\n",
    "\t\t\tif arr[j]>arr[j+1]:\n",
    "\t\t\t\tarr[j],arr[j+1] = arr[j+1], arr[j]\n",
    "\treturn arr\n",
    "bubbleSort([64, 34, 25, 12, 22, 11, 90])"
   ]
  },
  {
   "cell_type": "code",
   "execution_count": 6,
   "metadata": {},
   "outputs": [
    {
     "data": {
      "text/plain": [
       "[11, 12, 22, 25, 34, 64, 90]"
      ]
     },
     "execution_count": 6,
     "metadata": {},
     "output_type": "execute_result"
    }
   ],
   "source": [
    "def selectionSort(arr):\n",
    "    n=len(arr)\n",
    "    for i in range(n):\n",
    "        min_idx = i\n",
    "        for j in range(i+1,n):\n",
    "            if arr[min_idx] > arr[j]:\n",
    "                min_idx=j\n",
    "        arr[min_idx], arr[i] = arr[i], arr[min_idx]\n",
    "\n",
    "    return arr\n",
    "selectionSort(arr=[64, 34, 25, 12, 22, 11, 90])"
   ]
  },
  {
   "cell_type": "code",
   "execution_count": null,
   "metadata": {},
   "outputs": [],
   "source": [
    "def binarySearch(arr, l, r, x):\n",
    "\twhile l <= r:\n",
    "\t\tmid = l + (r - l) // 2\n",
    "\t\t# Check if x is present at mid\n",
    "\t\tif arr[mid] == x:\n",
    "\t\t\treturn mid\n",
    "\t\t# If x is greater, ignore left half\n",
    "\t\telif arr[mid] < x:\n",
    "\t\t\tl = mid + 1\n",
    "\t\t# If x is smaller, ignore right half\n",
    "\t\telse:\n",
    "\t\t\tr = mid - 1\n",
    "\t# If we reach here, then the element\n",
    "\t# was not present\n",
    "\treturn -1\n"
   ]
  },
  {
   "cell_type": "code",
   "execution_count": null,
   "metadata": {},
   "outputs": [],
   "source": []
  }
 ],
 "metadata": {
  "kernelspec": {
   "display_name": "myenv",
   "language": "python",
   "name": "python3"
  },
  "language_info": {
   "codemirror_mode": {
    "name": "ipython",
    "version": 3
   },
   "file_extension": ".py",
   "mimetype": "text/x-python",
   "name": "python",
   "nbconvert_exporter": "python",
   "pygments_lexer": "ipython3",
   "version": "3.11.4"
  }
 },
 "nbformat": 4,
 "nbformat_minor": 2
}
