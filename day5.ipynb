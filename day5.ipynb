{
 "cells": [
  {
   "cell_type": "code",
   "execution_count": 2,
   "metadata": {},
   "outputs": [],
   "source": [
    "class Solution:\n",
    "    def longestPalindrome(self, s: str) -> str:\n",
    "        res=0\n",
    "        if len(s)%2!=0:    \n",
    "            for m in range(int((len(s)/2)+1)):\n",
    "                for i in range(m):\n",
    "                    l=m-i-1\n",
    "                    r=m+i+1\n",
    "                    if s[l]==s[r]:\n",
    "                        str=s[l:r+1]\n",
    "                        if len(str)>res:\n",
    "                            out=str\n",
    "        elif len(s)%2==0:\n",
    "            for m in range(int((len(s)/2))):\n",
    "                for i in range(m):\n",
    "                    l=m-i-1\n",
    "                    r=m+i+1\n",
    "                    if s[l]==s[r]:\n",
    "                        str=s[l:r+1]\n",
    "                        if len(str)>res:\n",
    "                            out=str\n",
    "        return out"
   ]
  },
  {
   "cell_type": "code",
   "execution_count": 6,
   "metadata": {},
   "outputs": [
    {
     "name": "stdout",
     "output_type": "stream",
     "text": [
      "a\n",
      "0 0\n",
      "-1 1\n",
      "1 1\n",
      "0 2\n",
      "2 2\n",
      "1 3\n",
      "a 1\n"
     ]
    }
   ],
   "source": [
    "s=\"abb\"\n",
    "m=0\n",
    "res=''\n",
    "if len(s)%2 != 0: # odd length\n",
    "    for i in range(len(s)):\n",
    "        l=r=i\n",
    "        while( l>=0 and r<len(s) and s[l]==s[r]) :\n",
    "            if len(s[l:r+1])>m:\n",
    "                print(s[l:r+1])\n",
    "                m= len(s[l:r+1])\n",
    "                res = s[l:r+1]\n",
    "            print(l,r)\n",
    "            l-=1\n",
    "            r+=1\n",
    "            print(l,r)\n",
    "    if m==0:\n",
    "        res=s[0]\n",
    "else:\n",
    "    for i in range(len(s)):\n",
    "        l=i\n",
    "        r=i+1\n",
    "        while(l>=0 and r<len(s) and s[l]==s[r]) :\n",
    "            if len(s[l:r+1])>m:\n",
    "                m= len(s[l:r+1])\n",
    "                res = s[l:r+1]\n",
    "            l-=1\n",
    "            r+=1\n",
    "    if m==0:\n",
    "        res=s[0]\n",
    "\n",
    "            \n",
    "\n",
    "print(res,m)   "
   ]
  },
  {
   "cell_type": "code",
   "execution_count": 4,
   "metadata": {},
   "outputs": [
    {
     "name": "stdout",
     "output_type": "stream",
     "text": [
      " 0\n"
     ]
    }
   ],
   "source": [
    "s=\"babad\"\n",
    "m=0\n",
    "res=''\n",
    "for i in range(len(s)):\n",
    "    while( l>=0 and r<len(s) and s[l]==s[r]) :\n",
    "        if len(s[l:r+1])>m:\n",
    "            m= len(s[l:r+1])\n",
    "            res = s[l:r+1]\n",
    "        l-=1\n",
    "        r+=1\n",
    "\n",
    "\n",
    "print(res,m)   "
   ]
  },
  {
   "cell_type": "code",
   "execution_count": 5,
   "metadata": {},
   "outputs": [
    {
     "name": "stdout",
     "output_type": "stream",
     "text": [
      "result:  bb\n"
     ]
    }
   ],
   "source": [
    "s=\"abb\"\n",
    "def longestPalindrome(s):\n",
    "    if len(s) == 1:\n",
    "        return s\n",
    "    res=''\n",
    "    m=0\n",
    "    for i in range(len(s)):\n",
    "        l,r=i,i\n",
    "        while(l>=0 and r<len(s) and s[l]==s[r]):\n",
    "            if r-l+1>m:\n",
    "                m= r-l+1\n",
    "                res = s[l:r+1]\n",
    "            l-=1\n",
    "            r+=1\n",
    "    for i in range(len(s)):\n",
    "        l,r=i,i+1\n",
    "        while(l>=0 and r<len(s) and s[l]==s[r]):\n",
    "            if r-l+1>m:\n",
    "                m= r-l+1\n",
    "                res = s[l:r+1]\n",
    "            l-=1\n",
    "            r+=1\n",
    "\n",
    "    return print('result: ',res)\n",
    "\n",
    "longestPalindrome(s)\n",
    "\n",
    "\n",
    "        "
   ]
  },
  {
   "cell_type": "code",
   "execution_count": null,
   "metadata": {},
   "outputs": [],
   "source": []
  }
 ],
 "metadata": {
  "kernelspec": {
   "display_name": "myenv",
   "language": "python",
   "name": "python3"
  },
  "language_info": {
   "codemirror_mode": {
    "name": "ipython",
    "version": 3
   },
   "file_extension": ".py",
   "mimetype": "text/x-python",
   "name": "python",
   "nbconvert_exporter": "python",
   "pygments_lexer": "ipython3",
   "version": "3.11.4"
  },
  "orig_nbformat": 4
 },
 "nbformat": 4,
 "nbformat_minor": 2
}
