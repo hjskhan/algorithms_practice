{
 "cells": [
  {
   "cell_type": "code",
   "execution_count": 1,
   "metadata": {},
   "outputs": [
    {
     "name": "stdout",
     "output_type": "stream",
     "text": [
      "3\n"
     ]
    }
   ],
   "source": [
    "s = 'abc'\n",
    "r,res1,drop,b = [],[],[],[]\n",
    "res =''\n",
    "for i in range(len(s)-1):\n",
    "    res+=s[i]\n",
    "    res1.append(res)\n",
    "    for j in range(i+1,len(s)):\n",
    "        res+=s[j]\n",
    "        res1.append(res)\n",
    "    res=''\n",
    "new = list(set(res1))\n",
    "\n",
    "for i in new:\n",
    "    for j in range(len(i)):\n",
    "        if i.count(i[j]) >1:\n",
    "            drop.append(i)\n",
    "            break\n",
    "for i in drop:\n",
    "    new.remove(i)\n",
    "\n",
    "for i in new:\n",
    "    b.append(len(i))\n",
    "\n",
    "print(max(b))"
   ]
  },
  {
   "cell_type": "code",
   "execution_count": 8,
   "metadata": {},
   "outputs": [],
   "source": [
    "class Solution:\n",
    "    def lengthOfLongestSubstring(self, s: str) -> int:\n",
    "        if len(s) <= 1:\n",
    "            return len(s)\n",
    "        \n",
    "        max_length = 0\n",
    "        start = 0\n",
    "        char_index_map = {}  # Map to store the index of characters\n",
    "        \n",
    "        for end in range(len(s)):\n",
    "            if s[end] in char_index_map and char_index_map[s[end]] >= start:\n",
    "                print('-',start)\n",
    "                start = char_index_map[s[end]] + 1\n",
    "                print('--',start)\n",
    "            else:\n",
    "                max_length = max(max_length, end - start + 1)\n",
    "            char_index_map[s[end]] = end\n",
    "        \n",
    "        return max_length"
   ]
  },
  {
   "cell_type": "code",
   "execution_count": null,
   "metadata": {},
   "outputs": [],
   "source": [
    "Sol"
   ]
  }
 ],
 "metadata": {
  "kernelspec": {
   "display_name": "myenv",
   "language": "python",
   "name": "python3"
  },
  "language_info": {
   "codemirror_mode": {
    "name": "ipython",
    "version": 3
   },
   "file_extension": ".py",
   "mimetype": "text/x-python",
   "name": "python",
   "nbconvert_exporter": "python",
   "pygments_lexer": "ipython3",
   "version": "3.11.4"
  },
  "orig_nbformat": 4
 },
 "nbformat": 4,
 "nbformat_minor": 2
}
