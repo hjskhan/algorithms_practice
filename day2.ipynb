{
 "cells": [
  {
   "cell_type": "code",
   "execution_count": 15,
   "metadata": {},
   "outputs": [
    {
     "name": "stdout",
     "output_type": "stream",
     "text": [
      "3\n"
     ]
    }
   ],
   "source": [
    "s = 'abc'\n",
    "r,res1,drop,b = [],[],[],[]\n",
    "res =''\n",
    "for i in range(len(s)-1):\n",
    "    res+=s[i]\n",
    "    res1.append(res)\n",
    "    for j in range(i+1,len(s)):\n",
    "        res+=s[j]\n",
    "        res1.append(res)\n",
    "    res=''\n",
    "new = list(set(res1))\n",
    "\n",
    "for i in new:\n",
    "    for j in range(len(i)):\n",
    "        if i.count(i[j]) >1:\n",
    "            drop.append(i)\n",
    "            break\n",
    "for i in drop:\n",
    "    new.remove(i)\n",
    "\n",
    "for i in new:\n",
    "    b.append(len(i))\n",
    "\n",
    "print(max(b))"
   ]
  },
  {
   "cell_type": "code",
   "execution_count": 5,
   "metadata": {},
   "outputs": [
    {
     "name": "stdout",
     "output_type": "stream",
     "text": [
      "{<enumerate object at 0x000001CD26D32750>}\n"
     ]
    }
   ],
   "source": [
    "s = 'abc'\n",
    "print((enumerate(s)))"
   ]
  },
  {
   "cell_type": "code",
   "execution_count": 16,
   "metadata": {},
   "outputs": [
    {
     "name": "stdout",
     "output_type": "stream",
     "text": [
      "[(0, 'a'), (1, 'b'), (2, 'c'), (3, 'a'), (4, 'b'), (5, 'c'), (6, 'b'), (7, 'b')]\n",
      "end: 0 char: a\n",
      "[(0, 'a'), (1, 'b'), (2, 'c'), (3, 'a'), (4, 'b'), (5, 'c'), (6, 'b'), (7, 'b')]\n",
      "end: 1 char: b\n",
      "[(0, 'a'), (1, 'b'), (2, 'c'), (3, 'a'), (4, 'b'), (5, 'c'), (6, 'b'), (7, 'b')]\n",
      "end: 2 char: c\n",
      "[(0, 'a'), (1, 'b'), (2, 'c'), (3, 'a'), (4, 'b'), (5, 'c'), (6, 'b'), (7, 'b')]\n",
      "end: 3 char: a\n",
      "char_index: {'a': 0, 'b': 1, 'c': 2} \tstart: 0\n",
      "start_updated: 1\n",
      "[(0, 'a'), (1, 'b'), (2, 'c'), (3, 'a'), (4, 'b'), (5, 'c'), (6, 'b'), (7, 'b')]\n",
      "end: 4 char: b\n",
      "char_index: {'a': 3, 'b': 1, 'c': 2} \tstart: 1\n",
      "start_updated: 2\n",
      "[(0, 'a'), (1, 'b'), (2, 'c'), (3, 'a'), (4, 'b'), (5, 'c'), (6, 'b'), (7, 'b')]\n",
      "end: 5 char: c\n",
      "char_index: {'a': 3, 'b': 4, 'c': 2} \tstart: 2\n",
      "start_updated: 3\n",
      "[(0, 'a'), (1, 'b'), (2, 'c'), (3, 'a'), (4, 'b'), (5, 'c'), (6, 'b'), (7, 'b')]\n",
      "end: 6 char: b\n",
      "char_index: {'a': 3, 'b': 4, 'c': 5} \tstart: 3\n",
      "start_updated: 5\n",
      "[(0, 'a'), (1, 'b'), (2, 'c'), (3, 'a'), (4, 'b'), (5, 'c'), (6, 'b'), (7, 'b')]\n",
      "end: 7 char: b\n",
      "char_index: {'a': 3, 'b': 6, 'c': 5} \tstart: 5\n",
      "start_updated: 7\n",
      "3\n"
     ]
    }
   ],
   "source": [
    "class Solution:\n",
    "    def lengthOfLongestSubstring(self, s: str) -> int:\n",
    "        max_length = 0\n",
    "        start = 0\n",
    "        char_index = {}  # Dictionary to store the most recent index of each character\n",
    "\n",
    "        for end, char in enumerate(s):\n",
    "            print(list(enumerate(s)))\n",
    "            print('end:',end,'char:',char)\n",
    "            if char in char_index and char_index[char] >= start:\n",
    "                print('char_index:',char_index,'\\tstart:',start)\n",
    "                start = char_index[char] + 1\n",
    "                print('start_updated:',start)\n",
    "\n",
    "            char_index[char] = end\n",
    "            max_length = max(max_length, end - start + 1)\n",
    "\n",
    "        return max_length\n",
    "\n",
    "# Example usage\n",
    "solution = Solution()\n",
    "input_string = \"abcabcbb\"\n",
    "print(solution.lengthOfLongestSubstring(input_string))  # Output: 3\n"
   ]
  },
  {
   "cell_type": "code",
   "execution_count": 12,
   "metadata": {},
   "outputs": [
    {
     "data": {
      "text/plain": [
       "3"
      ]
     },
     "execution_count": 12,
     "metadata": {},
     "output_type": "execute_result"
    }
   ],
   "source": [
    "def lengthoflongestsubstring(st):\n",
    "    s,m=0,0\n",
    "    d={}\n",
    "    for i,v in enumerate(st):\n",
    "        if v in d and s <= d[v]:\n",
    "            s=d[v]+1\n",
    "        else:\n",
    "            m=max(m,i-s+1)\n",
    "        d[v]=i\n",
    "    return m\n",
    "\n",
    "lengthoflongestsubstring(\"pwwkew\")"
   ]
  },
  {
   "cell_type": "code",
   "execution_count": 13,
   "metadata": {},
   "outputs": [],
   "source": [
    "st=\"abcabcbb\"\n",
    "d={}\n",
    "s,m=0,0\n",
    "def lengthOfLongestSubstring(st):\n",
    "    for i,v in enumerate(st):\n",
    "        if v in d and s <= d[v]:\n",
    "            s = d[v] + 1\n",
    "        else:\n",
    "            max(m,i-s+1)\n",
    "            print('m',m)\n",
    "        d[v]=i\n",
    "        \n",
    "    return m\n",
    "        "
   ]
  }
 ],
 "metadata": {
  "kernelspec": {
   "display_name": "myenv",
   "language": "python",
   "name": "python3"
  },
  "language_info": {
   "codemirror_mode": {
    "name": "ipython",
    "version": 3
   },
   "file_extension": ".py",
   "mimetype": "text/x-python",
   "name": "python",
   "nbconvert_exporter": "python",
   "pygments_lexer": "ipython3",
   "version": "3.11.4"
  },
  "orig_nbformat": 4
 },
 "nbformat": 4,
 "nbformat_minor": 2
}
