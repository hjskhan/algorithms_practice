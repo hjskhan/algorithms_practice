{
 "cells": [
  {
   "cell_type": "code",
   "execution_count": 1,
   "metadata": {},
   "outputs": [
    {
     "data": {
      "text/plain": [
       "{'a': [1, 2, ['a', 'c', 1, 2], {'b': 1}],\n",
       " 'c': {'k': ['t', 'c', 'd', 3, 4, {'b': 1}]}}"
      ]
     },
     "execution_count": 1,
     "metadata": {},
     "output_type": "execute_result"
    }
   ],
   "source": [
    "# remove None from dic(nested)\n",
    "inp = {\n",
    "    \"a\": [1, 2, None, [\"a\", None, \"c\", 1, None, 2], {\"a\": None, \"b\": 1, \"c\": None}],\n",
    "    \"b\": None,\n",
    "    \"c\": {\"d\": None, \"k\": [\"t\", None, \"c\", \"d\", None, 3, 4, {'a': None, \"b\":1}]}\n",
    "}\n",
    "\n",
    "def remove(inp):\n",
    "    if isinstance(inp, dict):\n",
    "        return {k: remove(v) for k, v in inp.items() if v is not None}\n",
    "    elif isinstance(inp,list):\n",
    "        return [remove(i) for i in inp if i is not None]\n",
    "    else:\n",
    "        return inp\n",
    "remove(inp)"
   ]
  },
  {
   "cell_type": "code",
   "execution_count": 16,
   "metadata": {},
   "outputs": [
    {
     "data": {
      "text/plain": [
       "44"
      ]
     },
     "execution_count": 16,
     "metadata": {},
     "output_type": "execute_result"
    }
   ],
   "source": [
    "'''\n",
    "Given an array prices[] of length N, representing the prices of the stocks on different days,\n",
    "the task is to find the maximum profit possible by buying and selling the stocks on different\n",
    "days when at most one transaction is allowed.\n",
    "'''\n",
    "\n",
    "def max_profit(n):\n",
    "    \n",
    "    \n",
    "\n",
    "max_profit([1,5,3,45,2,7,6,4,2,8,4,])"
   ]
  },
  {
   "cell_type": "code",
   "execution_count": null,
   "metadata": {},
   "outputs": [],
   "source": [
    "'''\n",
    "Given an array prices[] of length N, representing the prices of the stocks on different days,\n",
    "the task is to find the maximum profit possible by buying and selling the stocks on different\n",
    "days when at most one transaction is allowed.\n",
    "'''\n",
    "\n",
    "def binary_search():\n",
    "    \n",
    "    \n",
    "def max_profit(n):\n",
    "    n = quick_sort(n)\n",
    "    return n[len(n)-1] - n[0]\n",
    "\n",
    "max_profit([1,5,3,45,2,7,6,4,2,8,4,])"
   ]
  }
 ],
 "metadata": {
  "kernelspec": {
   "display_name": "myenv",
   "language": "python",
   "name": "python3"
  },
  "language_info": {
   "codemirror_mode": {
    "name": "ipython",
    "version": 3
   },
   "file_extension": ".py",
   "mimetype": "text/x-python",
   "name": "python",
   "nbconvert_exporter": "python",
   "pygments_lexer": "ipython3",
   "version": "3.11.4"
  }
 },
 "nbformat": 4,
 "nbformat_minor": 2
}
