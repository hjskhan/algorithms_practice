{
 "cells": [
  {
   "cell_type": "code",
   "execution_count": 15,
   "metadata": {},
   "outputs": [
    {
     "name": "stdout",
     "output_type": "stream",
     "text": [
      "2\n"
     ]
    }
   ],
   "source": [
    "# Q. Check if pair with the given Sum exists in Array\n",
    "sum = 10\n",
    "n = [1,2,3,4,5,6,7]\n",
    "m=[]\n",
    "for i in range(0,len(n)-1):\n",
    "    for j in range(i+1,len(n)):\n",
    "        # print(i,j)\n",
    "        if n[i] + n[j] == sum:\n",
    "            m.append([n[i],n[j]])\n",
    "print(len(m))"
   ]
  },
  {
   "cell_type": "code",
   "execution_count": 14,
   "metadata": {},
   "outputs": [
    {
     "name": "stdout",
     "output_type": "stream",
     "text": [
      "[[6, 4], [7, 3]]\n"
     ]
    }
   ],
   "source": [
    "def find_pair_with_sum(arr, target_sum):\n",
    "    seen_numbers = set()\n",
    "    result = []\n",
    "\n",
    "    for num in arr:\n",
    "        complement = target_sum - num\n",
    "        if complement in seen_numbers:\n",
    "            result.append([num, complement])\n",
    "        seen_numbers.add(num)\n",
    "\n",
    "    return result\n",
    "\n",
    "# Example usage\n",
    "target_sum = 10\n",
    "arr = [1, 2, 3, 4, 5, 6, 7]\n",
    "result_pairs = find_pair_with_sum(arr, target_sum)\n",
    "print(result_pairs)\n"
   ]
  },
  {
   "cell_type": "code",
   "execution_count": 17,
   "metadata": {},
   "outputs": [
    {
     "data": {
      "text/plain": [
       "({1: 2, 2: 2, 3: 2, 4: 1, 5: 1}, [1, 2, 3])"
      ]
     },
     "execution_count": 17,
     "metadata": {},
     "output_type": "execute_result"
    }
   ],
   "source": [
    "# Q. Find duplicates?\n",
    "def duplicate(n):\n",
    "    dic={}\n",
    "    dup = []\n",
    "    for i in n:\n",
    "        if i in dic:\n",
    "            dic[i] = dic[i]+1\n",
    "            dup.append(i)\n",
    "        else:\n",
    "            dic[i] = 1\n",
    "    return dic, dup\n",
    "duplicate([1,2,3,4,5,1,2,3])"
   ]
  },
  {
   "cell_type": "code",
   "execution_count": 26,
   "metadata": {},
   "outputs": [
    {
     "data": {
      "text/plain": [
       "4"
      ]
     },
     "execution_count": 26,
     "metadata": {},
     "output_type": "execute_result"
    }
   ],
   "source": [
    "def binary_search(n,t):\n",
    "    n.sort()\n",
    "    l=0\n",
    "    r=len(n)\n",
    "    while l<=r:\n",
    "        m=l+((r-l)//2)\n",
    "        if n[m]==t:\n",
    "            return m\n",
    "        elif n[m]>t:#ignore right\n",
    "            r=m-1\n",
    "        elif n[m]<t:#ignore left\n",
    "            l=m+1\n",
    "\n",
    "binary_search(n=[1,2,5,10,15,20,30],t=15)"
   ]
  },
  {
   "cell_type": "code",
   "execution_count": null,
   "metadata": {},
   "outputs": [],
   "source": []
  }
 ],
 "metadata": {
  "kernelspec": {
   "display_name": "myenv",
   "language": "python",
   "name": "python3"
  },
  "language_info": {
   "codemirror_mode": {
    "name": "ipython",
    "version": 3
   },
   "file_extension": ".py",
   "mimetype": "text/x-python",
   "name": "python",
   "nbconvert_exporter": "python",
   "pygments_lexer": "ipython3",
   "version": "3.11.4"
  }
 },
 "nbformat": 4,
 "nbformat_minor": 2
}
