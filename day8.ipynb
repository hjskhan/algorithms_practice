{
 "cells": [
  {
   "cell_type": "code",
   "execution_count": 8,
   "metadata": {},
   "outputs": [
    {
     "data": {
      "text/plain": [
       "-987"
      ]
     },
     "execution_count": 8,
     "metadata": {},
     "output_type": "execute_result"
    }
   ],
   "source": [
    "s = \"words and -987.\"\n",
    "def myAtoi(s):\n",
    "    INT_MAX = 2**31 - 1\n",
    "    INT_MIN = -2**31\n",
    "    flag=0\n",
    "    letters = 'abcdefghijklmnopqrstuvwxyzABCDEFGHIJKLMNOPQRSTUVWXYZ.'\n",
    "    numbers = '0123456789'\n",
    "    for char in s:\n",
    "        if char == ' ' or char == '+' or char in letters:\n",
    "            s = s.replace(char, '')\n",
    "        elif char == '-':\n",
    "            flag = 1\n",
    "            s = s.replace(char, '')\n",
    "    if flag == 1:\n",
    "        s=-int(s)\n",
    "        if s < INT_MIN or s > INT_MAX:\n",
    "            return 0\n",
    "        else:\n",
    "            return s\n",
    "    else:\n",
    "        s=int(s)\n",
    "        if s < INT_MIN or s > INT_MAX:\n",
    "            return 0\n",
    "        else:\n",
    "            return s\n",
    "myAtoi(s)"
   ]
  },
  {
   "cell_type": "code",
   "execution_count": 16,
   "metadata": {},
   "outputs": [
    {
     "data": {
      "text/plain": [
       "0"
      ]
     },
     "execution_count": 16,
     "metadata": {},
     "output_type": "execute_result"
    }
   ],
   "source": [
    "def myAtoi(s):\n",
    "    INT_MAX = 2**31 - 1\n",
    "    INT_MIN = -2**31\n",
    "    s = s.strip()  # Remove leading and trailing whitespace\n",
    "    if not s:\n",
    "        return 0  # If the string is empty after stripping whitespace, return 0\n",
    "\n",
    "    sign = 1  # Initialize sign as positive\n",
    "    if s[0] == '-':\n",
    "        sign = -1\n",
    "        s = s[1:]  # Remove the negative sign from the string\n",
    "    elif s[0] == '+':\n",
    "        s = s[1:]  # Remove the positive sign from the string\n",
    "\n",
    "    result = 0\n",
    "    for char in s:\n",
    "        if not char.isdigit():\n",
    "            break  # Stop iteration when a non-digit character is encountered\n",
    "        result = result * 10 + int(char)  # Build the integer digit by digit\n",
    "\n",
    "    result *= sign  # Apply the sign to the result\n",
    "\n",
    "    # Clamp the result within the 32-bit signed integer range\n",
    "    if result < INT_MIN:\n",
    "        return INT_MIN\n",
    "    elif result > INT_MAX:\n",
    "        return INT_MAX\n",
    "    else:\n",
    "        return result\n",
    "\n",
    "myAtoi(s)"
   ]
  },
  {
   "cell_type": "code",
   "execution_count": 110,
   "metadata": {},
   "outputs": [
    {
     "data": {
      "text/plain": [
       "6"
      ]
     },
     "execution_count": 110,
     "metadata": {},
     "output_type": "execute_result"
    }
   ],
   "source": [
    "s = \"words and -987.\"\n",
    "s.find('a')"
   ]
  },
  {
   "cell_type": "code",
   "execution_count": 116,
   "metadata": {},
   "outputs": [
    {
     "name": "stdout",
     "output_type": "stream",
     "text": [
      "yes2\n"
     ]
    },
    {
     "data": {
      "text/plain": [
       "0"
      ]
     },
     "execution_count": 116,
     "metadata": {},
     "output_type": "execute_result"
    }
   ],
   "source": [
    "s = \"  -987 . 2.. \"\n",
    "S = s\n",
    "def myAtoi(s):\n",
    "    S = s\n",
    "    flag =0\n",
    "    string = 0\n",
    "    numeric = 0\n",
    "    j=0\n",
    "    # s = s.strip()\n",
    "    for i in s:\n",
    "        if i == ' ':\n",
    "            s = s.replace(i, '')\n",
    "        elif i == '-':\n",
    "            flag = 1\n",
    "            s = s.replace(i, '')\n",
    "        elif i == '+':\n",
    "            flag = 0\n",
    "            s = s.replace(i, '')\n",
    "        elif i in '0123456789' and string == 0:\n",
    "            numeric = 1\n",
    "            pass\n",
    "        elif i in '0123456789' and string == 1:\n",
    "            print('yes2')\n",
    "            s=0\n",
    "            break\n",
    "        elif i in 'abcdefghijklmnopqrstuvwxyzABCDEFGHIJKLMNOPQRSTUVWXYZ.' and numeric == 1:\n",
    "                if i=='.' and S[j-1] in '0123456789':\n",
    "                    s = s[:s.find('.')]\n",
    "                    break\n",
    "                else:\n",
    "                    string = 1\n",
    "                    s=s.replace(i, '')\n",
    "        elif i in 'abcdefghijklmnopqrstuvwxyzABCDEFGHIJKLMNOPQRSTUVWXYZ.' and numeric == 0:\n",
    "            print('yes1')\n",
    "            string = 1\n",
    "            s=0\n",
    "            break\n",
    "        j+=1\n",
    "    if flag == 1:\n",
    "        s = -int(s)\n",
    "        if s < -2**31:\n",
    "            return -2**31\n",
    "        else:\n",
    "            return s\n",
    "    else:\n",
    "        s = int(s)\n",
    "        if s > 2**31-1:\n",
    "            return 2**31-1\n",
    "        else:\n",
    "            return s\n",
    "    \n",
    "\n",
    "    \n",
    "myAtoi(s)"
   ]
  },
  {
   "cell_type": "code",
   "execution_count": 120,
   "metadata": {},
   "outputs": [
    {
     "name": "stdout",
     "output_type": "stream",
     "text": [
      "- T\n"
     ]
    },
    {
     "data": {
      "text/plain": [
       "0"
      ]
     },
     "execution_count": 120,
     "metadata": {},
     "output_type": "execute_result"
    }
   ],
   "source": [
    "s = \"+-12\"\n",
    "def myAtoi(s):\n",
    "    s = s.strip()\n",
    "    if not s:\n",
    "        return 0\n",
    "    sign = 1\n",
    "    if s[0] == '-':\n",
    "        sign = -1\n",
    "        s = s[1:]\n",
    "    elif s[0] == '+':\n",
    "        s = s[1:]\n",
    "    result = 0\n",
    "    for char in s:\n",
    "        if not char.isdigit():\n",
    "            print(char, 'T')\n",
    "            break\n",
    "        result = result * 10 + int(char)\n",
    "    result *= sign\n",
    "    if result < -2**31:\n",
    "        return -2**31\n",
    "    elif result > 2**31-1:\n",
    "        return 2**31-1\n",
    "    else:\n",
    "        return result\n",
    "myAtoi(s)"
   ]
  }
 ],
 "metadata": {
  "kernelspec": {
   "display_name": "myenv",
   "language": "python",
   "name": "python3"
  },
  "language_info": {
   "codemirror_mode": {
    "name": "ipython",
    "version": 3
   },
   "file_extension": ".py",
   "mimetype": "text/x-python",
   "name": "python",
   "nbconvert_exporter": "python",
   "pygments_lexer": "ipython3",
   "version": "3.11.4"
  }
 },
 "nbformat": 4,
 "nbformat_minor": 2
}
