{
 "cells": [
  {
   "cell_type": "code",
   "execution_count": 59,
   "metadata": {},
   "outputs": [
    {
     "data": {
      "text/plain": [
       "[1]"
      ]
     },
     "execution_count": 59,
     "metadata": {},
     "output_type": "execute_result"
    }
   ],
   "source": [
    "def remove_duplicates(n):\n",
    "    c,d=[],[]\n",
    "    for i in n:\n",
    "        if i not in d:\n",
    "            d.append(i)\n",
    "        elif i in d and i not in c:\n",
    "            c.append(i)\n",
    "    return c\n",
    "\n",
    "remove_duplicates([1,-2,3,4,1,2,5])"
   ]
  },
  {
   "cell_type": "code",
   "execution_count": 60,
   "metadata": {},
   "outputs": [
    {
     "data": {
      "text/plain": [
       "['b', 'a']"
      ]
     },
     "execution_count": 60,
     "metadata": {},
     "output_type": "execute_result"
    }
   ],
   "source": [
    "remove_duplicates('abcbaba')"
   ]
  },
  {
   "cell_type": "code",
   "execution_count": 16,
   "metadata": {},
   "outputs": [
    {
     "data": {
      "text/plain": [
       "5040"
      ]
     },
     "execution_count": 16,
     "metadata": {},
     "output_type": "execute_result"
    }
   ],
   "source": [
    "def factorial(n):\n",
    "    k=1\n",
    "    for i in range(1,n+1):\n",
    "        k=k*i\n",
    "    return k\n",
    "factorial(7)"
   ]
  },
  {
   "cell_type": "code",
   "execution_count": 51,
   "metadata": {},
   "outputs": [
    {
     "data": {
      "text/plain": [
       "'fedwxhj'"
      ]
     },
     "execution_count": 51,
     "metadata": {},
     "output_type": "execute_result"
    }
   ],
   "source": [
    "def longest_substring(s):\n",
    "    m=0\n",
    "    S=''\n",
    "    for i in range(len(s)-1):\n",
    "        if s[i]==s[i+1]:\n",
    "            j=i+1#saving the latest index if repeated string occur\n",
    "            if len(S)<len(s[m:i+1]):\n",
    "                S=s[m:i+1] \n",
    "            m=i+1#saving the latest index if repeated string occur, after updation of S\n",
    "        if (i+2)==len(s) and len(S)<len(s[j:i+1]):#this is for last part of string\n",
    "            S=s[j:i+1]\n",
    "    return S\n",
    "longest_substring('abddeffedwxhjjhb')"
   ]
  },
  {
   "cell_type": "code",
   "execution_count": 62,
   "metadata": {},
   "outputs": [],
   "source": [
    "def longest_substring_2(s):\n",
    "    m=0\n",
    "    for i in range(len(s)):\n",
    "        pass\n"
   ]
  },
  {
   "cell_type": "code",
   "execution_count": 8,
   "metadata": {},
   "outputs": [
    {
     "data": {
      "text/plain": [
       "'geekeeg'"
      ]
     },
     "execution_count": 8,
     "metadata": {},
     "output_type": "execute_result"
    }
   ],
   "source": [
    "def longest_palindrome(s):\n",
    "    res=''\n",
    "    #odd length\n",
    "    for i in range(len(s)):\n",
    "        l=i\n",
    "        r=i\n",
    "        while l>=0 and r<len(s) and s[l]==s[r]:\n",
    "            if len(s[l:r+1])>len(res):\n",
    "                res = s[l:r+1]\n",
    "            l-=1\n",
    "            r+=1\n",
    "    #even length\n",
    "    for i in range(len(s)):\n",
    "        l=i\n",
    "        r=i+1\n",
    "        while l>=0 and r<len(s) and s[l]==s[r]:\n",
    "            if len(s[l:r+1])>len(res):\n",
    "                res = s[l:r+1]\n",
    "            l-=1\n",
    "            r+=1\n",
    "    return res\n",
    "longest_palindrome('babadgeekeegj')"
   ]
  }
 ],
 "metadata": {
  "kernelspec": {
   "display_name": "myenv",
   "language": "python",
   "name": "python3"
  },
  "language_info": {
   "codemirror_mode": {
    "name": "ipython",
    "version": 3
   },
   "file_extension": ".py",
   "mimetype": "text/x-python",
   "name": "python",
   "nbconvert_exporter": "python",
   "pygments_lexer": "ipython3",
   "version": "3.11.4"
  }
 },
 "nbformat": 4,
 "nbformat_minor": 2
}
