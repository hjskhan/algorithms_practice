{
 "cells": [
  {
   "cell_type": "code",
   "execution_count": 16,
   "metadata": {},
   "outputs": [
    {
     "name": "stdout",
     "output_type": "stream",
     "text": [
      "[0, 1, 2, 5, 21, 32, 45, 89]\n"
     ]
    }
   ],
   "source": [
    "# merge Sort:\n",
    "def merge_sort(a):\n",
    "    if len(a)>1:\n",
    "        n = len(a)\n",
    "        mid = n//2\n",
    "        L = a[:mid]\n",
    "        R = a[mid:]\n",
    "        merge_sort(L)\n",
    "        merge_sort(R)\n",
    "        i=j=k=0\n",
    "        while i<len(L) and j<len(R):\n",
    "            if L[i]<=R[j]:\n",
    "                a[k] = L[i]\n",
    "                i+=1\n",
    "            else:\n",
    "                a[k] = R[j]\n",
    "                j+=1\n",
    "            k+=1\n",
    "        while i < len(L):\n",
    "            a[k] = L[i]\n",
    "            i += 1\n",
    "            k += 1\n",
    " \n",
    "        while j < len(R):\n",
    "            a[k] = R[j]\n",
    "            j += 1\n",
    "            k += 1\n",
    "a=[1,5,2,45,32,89,21,0]\n",
    "merge_sort(a)\n",
    "print(a)\n"
   ]
  },
  {
   "cell_type": "code",
   "execution_count": 52,
   "metadata": {},
   "outputs": [
    {
     "data": {
      "text/plain": [
       "[2, 3]"
      ]
     },
     "execution_count": 52,
     "metadata": {},
     "output_type": "execute_result"
    }
   ],
   "source": [
    "def two_sum(n, t):\n",
    "    dic={}\n",
    "    for i in range(len(n)):\n",
    "        c = t-n[i]\n",
    "        if n[i] in dic:\n",
    "            return [dic[n[i]], i]\n",
    "        else:\n",
    "            dic[c] = i\n",
    "    \n",
    "two_sum([1,2,6,4,7,4, 3], 10)"
   ]
  },
  {
   "cell_type": "code",
   "execution_count": 78,
   "metadata": {},
   "outputs": [
    {
     "data": {
      "text/plain": [
       "[3, 4, 0]"
      ]
     },
     "execution_count": 78,
     "metadata": {},
     "output_type": "execute_result"
    }
   ],
   "source": [
    "def three_sum(n, t):\n",
    "    dic={}\n",
    "    for i in range(len(n)):\n",
    "        t1 = t - n[i]#c is sub target    \n",
    "        m = n[i+1:]\n",
    "        for j in range(i+1, len(m)):\n",
    "            c = t1 - m[j]\n",
    "            if m[j] in dic:\n",
    "                return [dic[m[j]]+1, j+1, i]\n",
    "            else:\n",
    "                dic[c] = j\n",
    "\n",
    "three_sum([1,2,3,4,5,6], 10)"
   ]
  },
  {
   "cell_type": "code",
   "execution_count": 69,
   "metadata": {},
   "outputs": [
    {
     "data": {
      "text/plain": [
       "[6, 4, 7, 4, 3]"
      ]
     },
     "execution_count": 69,
     "metadata": {},
     "output_type": "execute_result"
    }
   ],
   "source": [
    "a = [1,2,6,4,7,4, 3]\n",
    "a[1+1:]"
   ]
  }
 ],
 "metadata": {
  "kernelspec": {
   "display_name": "myenv",
   "language": "python",
   "name": "python3"
  },
  "language_info": {
   "codemirror_mode": {
    "name": "ipython",
    "version": 3
   },
   "file_extension": ".py",
   "mimetype": "text/x-python",
   "name": "python",
   "nbconvert_exporter": "python",
   "pygments_lexer": "ipython3",
   "version": "3.11.4"
  }
 },
 "nbformat": 4,
 "nbformat_minor": 2
}
