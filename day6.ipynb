{
 "cells": [
  {
   "cell_type": "code",
   "execution_count": 36,
   "metadata": {},
   "outputs": [
    {
     "data": {
      "text/plain": [
       "'PAHNAPLSIIGYIR'"
      ]
     },
     "execution_count": 36,
     "metadata": {},
     "output_type": "execute_result"
    }
   ],
   "source": [
    "s='PAYPALISHIRING'\n",
    "\n",
    "def convert(s, numRows):\n",
    "    if numRows == 1:\n",
    "        return s\n",
    "    rows = [''] * numRows\n",
    "    i=0\n",
    "    step = 1\n",
    "    for char in s:\n",
    "        rows[i] += char\n",
    "        if i == 0:\n",
    "            step = 1\n",
    "        elif i == numRows - 1:\n",
    "            step = -1\n",
    "        i += step\n",
    "    return ''.join(rows)\n",
    "\n",
    "convert(s, 3)"
   ]
  }
 ],
 "metadata": {
  "kernelspec": {
   "display_name": "myenv",
   "language": "python",
   "name": "python3"
  },
  "language_info": {
   "codemirror_mode": {
    "name": "ipython",
    "version": 3
   },
   "file_extension": ".py",
   "mimetype": "text/x-python",
   "name": "python",
   "nbconvert_exporter": "python",
   "pygments_lexer": "ipython3",
   "version": "3.11.4"
  }
 },
 "nbformat": 4,
 "nbformat_minor": 2
}
